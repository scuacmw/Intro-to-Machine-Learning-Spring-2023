{
  "nbformat": 4,
  "nbformat_minor": 0,
  "metadata": {
    "colab": {
      "provenance": []
    },
    "kernelspec": {
      "name": "python3",
      "display_name": "Python 3"
    },
    "language_info": {
      "name": "python"
    }
  },
  "cells": [
    {
      "cell_type": "markdown",
      "source": [
        "**NOTES:**\n",
        "\n",
        "Important Libraries used in ML:\n",
        "\n",
        "*   **pandas** is used for working with data; once data is converted to a pandas dataframe, its manipulation process is greatly simplified\n",
        "*   **numpy** is used for numerical operations on large datasets\n",
        "\n",
        "ML Pipeline:\n",
        "*   Inputting data\n",
        "*   Data preprocessing\n",
        "*   Data training\n",
        "*   Data testing\n",
        "\n",
        "USEFUL LINKS:\n",
        "\n",
        "*   pandas library tutorial: https://www.w3schools.com/python/pandas/default.asp\n",
        "\n",
        "*   reading a csv file using pandas: https://www.w3schools.com/python/pandas/pandas_csv.asp\n",
        "\n",
        "*   k-nearest neighbors library documentation: https://scikit-learn.org/stable/modules/generated/sklearn.neighbors.KNeighborsClassifier.html\n"
      ],
      "metadata": {
        "id": "NkUSQxYoQIWA"
      }
    },
    {
      "cell_type": "code",
      "execution_count": null,
      "metadata": {
        "id": "RzAxBqLilNhq"
      },
      "outputs": [],
      "source": [
        "# import libraries \n",
        "import numpy as np\n",
        "import pandas as pd"
      ]
    },
    {
      "cell_type": "markdown",
      "source": [
        "**Inputting Data**"
      ],
      "metadata": {
        "id": "IFlej8RSm8nW"
      }
    },
    {
      "cell_type": "code",
      "source": [
        "# INPUTTING DATA: reading in the dataset\n",
        "# url contains the iris.csv file stored in the ACM-W github\n",
        "\n",
        "#TO DO: load the CSV file into a pandas DataFrame: fill in the missing parameter for the read_csv function\n",
        "url = 'https://raw.githubusercontent.com/scuacmw/Intro-to-Machine-Learning-Spring-2023/main/iris.csv'\n",
        "dataset = pd.read_csv(FILL_THIS_IN)\n",
        "\n",
        "# print out the dimensions of the dataset: format will display as \"(rows, columns)\"\n",
        "print(\"Dataset dimensions:\", dataset.shape) # Expected outcome: (150, 5)\n",
        "\n",
        "# print out the first five entries of the dataset\n",
        "dataset.head(5)"
      ],
      "metadata": {
        "id": "phrCMot_mnXY"
      },
      "execution_count": 17,
      "outputs": []
    },
    {
      "cell_type": "markdown",
      "source": [
        "**Data Preprocessing**"
      ],
      "metadata": {
        "id": "ji54tZKMnC4v"
      }
    },
    {
      "cell_type": "code",
      "source": [
        "# DATA PREPROCESSING\n",
        "# Split the dataset into X (features) and y (labels)\n",
        "# features represent the dimensions of each data entry (EX: the features for data entry 0 is [5.1, 3.5, 1.4, 0.2])\n",
        "# labels represent the species assigned to each data entry (EX: the label for data entry 0 is \"setosa\")\n",
        "\n",
        "#TO DO: extract the correct data needed to train the knn model\n",
        "feature_columns = ['sepal_length', 'sepal_width', 'petal_length','petal_width'] # store the relevant column names that relate to the flower dimensions in an array \n",
        "X = dataset[FILL_THIS_IN].values # X will store all values in the columns specified in feature_columns\n",
        "y = dataset[FILL_THIS_IN].values # y will store an array of the labels for all 150 entries (HINT: What is the name of the rightmost column?)"
      ],
      "metadata": {
        "id": "4EDpe9xJmqyx"
      },
      "execution_count": null,
      "outputs": []
    },
    {
      "cell_type": "markdown",
      "source": [
        "**Notes on the KNeighborsClassifier:**\n",
        "\n",
        "Currently our labels store three types of string values: \"setosa\", \"virginica\", and \"versicolor\"\n",
        "\n",
        "The KNeighborsClassifier library does NOT accept string labels: we will need to use LabelEncoder to transform these strings to numbers:\n",
        "\n",
        "\n",
        "*   Iris-setosa --> 0\n",
        "*   Iris-versicolor --> 1\n",
        "*   Iris-virginica --> 2\n"
      ],
      "metadata": {
        "id": "z7HwKg4vnvTv"
      }
    },
    {
      "cell_type": "code",
      "source": [
        "from sklearn.preprocessing import LabelEncoder\n",
        "le = LabelEncoder()\n",
        "y = le.fit_transform(y)"
      ],
      "metadata": {
        "id": "EnBLCCuCcyTg"
      },
      "execution_count": null,
      "outputs": []
    },
    {
      "cell_type": "markdown",
      "source": [
        "**Data Training and Testing**"
      ],
      "metadata": {
        "id": "Kp9BQqSwp4hB"
      }
    },
    {
      "cell_type": "code",
      "source": [
        "# DATA TRAINING: splitting the dataset for training and testing\n",
        "# We will be using an 80:20 ratio: 80% of our data set will be used to train the model and the remaining 20% will be used to test the model\n",
        "\n",
        "# TO DO: fill in the correct parameters to split the data for training and testing\n",
        "from sklearn.model_selection import train_test_split\n",
        "X_train, X_test, y_train, y_test = train_test_split(FILL_THIS_IN, FILL_THIS_IN, test_size = FILL_THIS_IN, random_state = 0)\n",
        "\n",
        "# TO DO: choose a k value: how many nearest neigbors do you want to consider when classifying a test entry?\n",
        "from sklearn.neighbors import KNeighborsClassifier\n",
        "knn = KNeighborsClassifier(n_neighbors=FILL_THIS_IN)\n",
        "\n",
        "# Fit the model to the training data\n",
        "knn.fit(X_train, y_train)\n",
        "\n",
        "# Make predictions on the testing data\n",
        "y_pred = knn.predict(X_test)\n",
        "\n",
        "# Calculate the accuracy score\n",
        "# TO DO: fill in the parameters for the accuracy_score function: \n",
        "from sklearn.metrics import accuracy_score\n",
        "accuracy = accuracy_score(FILL_THIS_IN, FILL_THIS_IN)\n",
        "\n",
        "print(f'Accuracy: {accuracy:.2f}')"
      ],
      "metadata": {
        "id": "wIXKaUekpku5"
      },
      "execution_count": 18,
      "outputs": []
    },
    {
      "cell_type": "code",
      "source": [
        "# Visualization: three colors each representing one of the three iris classes; each point is classified to a flower species\n",
        "\n",
        "import matplotlib.pyplot as plt\n",
        "\n",
        "# Create a scatter plot of the first two features\n",
        "plt.scatter(X[:, 0], X[:, 1], c=y)\n",
        "plt.xlabel('sepal length (cm)')\n",
        "plt.ylabel('sepal width (cm)')\n",
        "plt.show()"
      ],
      "metadata": {
        "id": "8eUMRqwivhc4"
      },
      "execution_count": null,
      "outputs": []
    },
    {
      "cell_type": "code",
      "source": [
        "# Challenge: plot a 3D scatterplot version using the first three features"
      ],
      "metadata": {
        "id": "DHqQQKY4xZ7f"
      },
      "execution_count": null,
      "outputs": []
    }
  ]
}